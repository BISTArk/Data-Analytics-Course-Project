{
 "cells": [
  {
   "cell_type": "code",
   "execution_count": 1,
   "metadata": {},
   "outputs": [],
   "source": [
    "import tensorflow as tf"
   ]
  },
  {
   "cell_type": "code",
   "execution_count": 2,
   "metadata": {},
   "outputs": [
    {
     "data": {
      "text/plain": [
       "'2.4.1'"
      ]
     },
     "execution_count": 2,
     "metadata": {},
     "output_type": "execute_result"
    }
   ],
   "source": [
    "tf.__version__"
   ]
  },
  {
   "cell_type": "code",
   "execution_count": 6,
   "metadata": {},
   "outputs": [],
   "source": [
    "import warnings\n",
    "warnings.simplefilter(action='ignore', category=FutureWarning)\n",
    "\n",
    "# Data Reading \n",
    "\n",
    "import os\n",
    "from glob import glob\n",
    "from PIL import Image\n",
    "\n",
    "# Data Processing \n",
    "\n",
    "import numpy as np\n",
    "import pandas as pd\n",
    "import cv2\n",
    "import random\n",
    "# import albumentations as al\n",
    "\n",
    "# Data Analysis\n",
    "\n",
    "import plotly.express as px\n",
    "import matplotlib.pyplot as plt\n",
    "import seaborn as sns\n",
    "\n",
    "# Data Modeling & Model Evaluation\n",
    "\n",
    "from sklearn.model_selection import train_test_split\n",
    "from keras.preprocessing import image\n",
    "from tensorflow.keras import layers, models\n",
    "import tensorflow as tf\n",
    "os.environ['TF_CPP_MIN_LOG_LEVEL'] = '3'\n",
    "from sklearn.metrics import confusion_matrix, ConfusionMatrixDisplay, classification_report, recall_score, accuracy_score, precision_score, f1_score\n",
    "\n",
    "# Grad-CAM\n",
    "\n",
    "import keras\n",
    "import matplotlib.cm as cm"
   ]
  },
  {
   "cell_type": "code",
   "execution_count": 8,
   "metadata": {},
   "outputs": [
    {
     "data": {
      "text/html": [
       "<div>\n",
       "<style scoped>\n",
       "    .dataframe tbody tr th:only-of-type {\n",
       "        vertical-align: middle;\n",
       "    }\n",
       "\n",
       "    .dataframe tbody tr th {\n",
       "        vertical-align: top;\n",
       "    }\n",
       "\n",
       "    .dataframe thead th {\n",
       "        text-align: right;\n",
       "    }\n",
       "</style>\n",
       "<table border=\"1\" class=\"dataframe\">\n",
       "  <thead>\n",
       "    <tr style=\"text-align: right;\">\n",
       "      <th></th>\n",
       "      <th>image_file</th>\n",
       "      <th>corona_result</th>\n",
       "      <th>path</th>\n",
       "    </tr>\n",
       "  </thead>\n",
       "  <tbody>\n",
       "    <tr>\n",
       "      <th>0</th>\n",
       "      <td>Normal/images</td>\n",
       "      <td>Negative</td>\n",
       "      <td>/mnt/f/NITK/7TH SEM/IT/IT Proj/Data-Analytics-...</td>\n",
       "    </tr>\n",
       "    <tr>\n",
       "      <th>1</th>\n",
       "      <td>Normal/masks</td>\n",
       "      <td>Negative</td>\n",
       "      <td>/mnt/f/NITK/7TH SEM/IT/IT Proj/Data-Analytics-...</td>\n",
       "    </tr>\n",
       "    <tr>\n",
       "      <th>2</th>\n",
       "      <td>COVID/images</td>\n",
       "      <td>Positive</td>\n",
       "      <td>/mnt/f/NITK/7TH SEM/IT/IT Proj/Data-Analytics-...</td>\n",
       "    </tr>\n",
       "    <tr>\n",
       "      <th>3</th>\n",
       "      <td>COVID/masks</td>\n",
       "      <td>Positive</td>\n",
       "      <td>/mnt/f/NITK/7TH SEM/IT/IT Proj/Data-Analytics-...</td>\n",
       "    </tr>\n",
       "  </tbody>\n",
       "</table>\n",
       "</div>"
      ],
      "text/plain": [
       "      image_file corona_result  \\\n",
       "0  Normal/images      Negative   \n",
       "1   Normal/masks      Negative   \n",
       "2   COVID/images      Positive   \n",
       "3    COVID/masks      Positive   \n",
       "\n",
       "                                                path  \n",
       "0  /mnt/f/NITK/7TH SEM/IT/IT Proj/Data-Analytics-...  \n",
       "1  /mnt/f/NITK/7TH SEM/IT/IT Proj/Data-Analytics-...  \n",
       "2  /mnt/f/NITK/7TH SEM/IT/IT Proj/Data-Analytics-...  \n",
       "3  /mnt/f/NITK/7TH SEM/IT/IT Proj/Data-Analytics-...  "
      ]
     },
     "execution_count": 8,
     "metadata": {},
     "output_type": "execute_result"
    }
   ],
   "source": [
    "levels = ['Normal', 'COVID']\n",
    "path = \"/mnt/f/NITK/7TH SEM/IT/IT Proj/Data-Analytics-Course-Project/Dataset/archive/COVID-19_Radiography_Dataset\"\n",
    "data_dir = os.path.join(path)\n",
    "\n",
    "data = []\n",
    "for id, level in enumerate(levels):\n",
    "    for file in os.listdir(os.path.join(data_dir, level)):\n",
    "        data.append(['{}/{}'.format(level, file), level])\n",
    "\n",
    "data = pd.DataFrame(data, columns = ['image_file', 'corona_result'])\n",
    "\n",
    "data['path'] = path + '/' + data['image_file']\n",
    "data['corona_result'] = data['corona_result'].map({'Normal': 'Negative', 'COVID': 'Positive'})\n",
    "samples = 13808\n",
    "\n",
    "data.head()"
   ]
  },
  {
   "cell_type": "code",
   "execution_count": null,
   "metadata": {},
   "outputs": [],
   "source": []
  }
 ],
 "metadata": {
  "kernelspec": {
   "display_name": "Python 3.6.13 ('directml')",
   "language": "python",
   "name": "python3"
  },
  "language_info": {
   "codemirror_mode": {
    "name": "ipython",
    "version": 3
   },
   "file_extension": ".py",
   "mimetype": "text/x-python",
   "name": "python",
   "nbconvert_exporter": "python",
   "pygments_lexer": "ipython3",
   "version": "3.6.13"
  },
  "orig_nbformat": 4,
  "vscode": {
   "interpreter": {
    "hash": "9b37a82d1790297bf2abfd50cd72d130a9533f59ddd8c91e9910240c5e82c8ea"
   }
  }
 },
 "nbformat": 4,
 "nbformat_minor": 2
}
